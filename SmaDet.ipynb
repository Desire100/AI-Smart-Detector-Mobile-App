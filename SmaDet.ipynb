{
 "cells": [
  {
   "cell_type": "markdown",
   "metadata": {
    "colab_type": "text",
    "id": "ftMwxEPwmxBJ"
   },
   "source": [
    "## Demo\n",
    "\n",
    "![alt text](https://i.imgur.com/CVADW7T.png)\n",
    "\n",
    "## Overview\n",
    "\n",
    "In this repo, I'll show you how I built a mobile app (SmaDet:Smart Detector) for iOS and Android that offers users an automated on-demand obeject detection.\n",
    "\n",
    "\n",
    "###  Objectives\n",
    "\n",
    "- Creating a Simple Flutter app (iOS and Android)\n",
    "- How the YOLO_v2 Model detects objects\n",
    "\n",
    "### Tools Used\n",
    "\n",
    "- Flutter (framework to deploy a service to iOS and Android)\n",
    "![alt text](https://venturebeat.com/wp-content/uploads/2019/05/flutter-mobile-desktop-web-embedded.png?fit=400%2C200&strip=all)\n",
    "\n",
    "\n",
    "- Tensorflow Lite (Run model on-device)\n",
    "![alt text](https://i1.wp.com/androidkt.com////wp-content/uploads/2017/07/Life-Cycle-of-Model.png?resize=624%2C351&ssl=1)\n",
    "\n",
    "- YOLO_2 (Detect object of user)\n",
    "![alt text](https://www.danioved.com/portfolio/posenet/images/posenet-multipose.gif)\n",
    "\n"
   ]
  },
  {
   "cell_type": "markdown",
   "metadata": {
    "colab_type": "text",
    "id": "U8cAJX95scX4"
   },
   "source": [
    "## App Design\n",
    "\n",
    "- Let's map out the flow of the app via a whiteboard"
   ]
  },
  {
   "cell_type": "markdown",
   "metadata": {
    "colab_type": "text",
    "id": "GEEHZI402tjb"
   },
   "source": [
    "## How Does the Yolo version 2 model work? \n",
    "\n",
    "### The Pipeline "
   ]
  },
  {
   "cell_type": "markdown",
   "metadata": {
    "colab_type": "text",
    "id": "sxyu5scU2zpi"
   },
   "source": [
    "## Let's continue building\n",
    "- Integrating model into the app"
   ]
  },
  {
   "cell_type": "markdown",
   "metadata": {
    "colab_type": "text",
    "id": "b3dmcBv-25wq"
   },
   "source": [
    "## How to Improve the app, conclusion\n",
    "\n",
    "- Generative Model for 3D Yoga Pose Generation (Adversarial Network)\n",
    "- More interactive dialogue (Dialogflow)\n",
    "- More personalization & poses (add more poses, personalize them using recommender system/matrix factorization)\n",
    "- Other features for well-being (meditation, diet, other forms of exercise)\n",
    "- More analytics (blood pressure, posture, etc.)"
   ]
  }
 ],
 "metadata": {
  "colab": {
   "name": "Watch Me Build a Healthcare Startup",
   "provenance": [],
   "version": "0.3.2"
  },
  "kernelspec": {
   "display_name": "Python 3",
   "language": "python",
   "name": "python3"
  },
  "language_info": {
   "codemirror_mode": {
    "name": "ipython",
    "version": 3
   },
   "file_extension": ".py",
   "mimetype": "text/x-python",
   "name": "python",
   "nbconvert_exporter": "python",
   "pygments_lexer": "ipython3",
   "version": "3.7.3"
  }
 },
 "nbformat": 4,
 "nbformat_minor": 1
}
